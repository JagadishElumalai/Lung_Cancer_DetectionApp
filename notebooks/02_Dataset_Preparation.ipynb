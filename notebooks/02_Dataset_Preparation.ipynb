{
 "cells": [
  {
   "cell_type": "markdown",
   "metadata": {
    "id": "nhJp_Vo5Mvqv"
   },
   "source": [
    "Importing Modules"
   ]
  },
  {
   "cell_type": "code",
   "execution_count": 1,
   "metadata": {
    "executionInfo": {
     "elapsed": 17,
     "status": "ok",
     "timestamp": 1651325093066,
     "user": {
      "displayName": "Ayush Kumar",
      "userId": "14345249188510044799"
     },
     "user_tz": -330
    },
    "id": "TMxmQZPmn-2m"
   },
   "outputs": [],
   "source": [
    "import numpy as np\n",
    "import os\n",
    "import random\n",
    "from tqdm import tqdm\n",
    "from IPython.display import clear_output"
   ]
  },
  {
   "cell_type": "markdown",
   "metadata": {
    "id": "ogFy2sqWMvq7"
   },
   "source": [
    "Mounting Google Drive to access Processed Dataset"
   ]
  },
  {
   "cell_type": "markdown",
   "metadata": {
    "id": "v2WlH0PRMvq-"
   },
   "source": [
    "Unzip ProcessedData"
   ]
  },
  {
   "cell_type": "code",
   "execution_count": 3,
   "metadata": {
    "executionInfo": {
     "elapsed": 11407,
     "status": "ok",
     "timestamp": 1651325141470,
     "user": {
      "displayName": "Ayush Kumar",
      "userId": "14345249188510044799"
     },
     "user_tz": -330
    },
    "id": "u0z6BW7jodEQ"
   },
   "outputs": [],
   "source": [
    "!unzip drive/MyDrive/Datasets/lc2/v2/ProcessedData2_1.zip\n",
    "clear_output()"
   ]
  },
  {
   "cell_type": "markdown",
   "metadata": {
    "id": "y69REbUaMvq_"
   },
   "source": [
    "Load file names in the Dataset"
   ]
  },
  {
   "cell_type": "code",
   "execution_count": 6,
   "metadata": {
    "executionInfo": {
     "elapsed": 379,
     "status": "ok",
     "timestamp": 1651325158717,
     "user": {
      "displayName": "Ayush Kumar",
      "userId": "14345249188510044799"
     },
     "user_tz": -330
    },
    "id": "7pGpzfZ1oxeq"
   },
   "outputs": [],
   "source": [
    "lung_names = os.listdir(\"F:\\Downloads\\Lung_Cancer_Detection-main\\Lung_Cancer_Detection-main\\DATA\\ProcessedData\\lungs_roi\")\n",
    "random.shuffle(lung_names)"
   ]
  },
  {
   "cell_type": "markdown",
   "metadata": {
    "id": "OH9VhRLDMvrB"
   },
   "source": [
    "Splitting files in train-test data in ratio 8:2"
   ]
  },
  {
   "cell_type": "code",
   "execution_count": 7,
   "metadata": {
    "colab": {
     "base_uri": "https://localhost:8080/"
    },
    "executionInfo": {
     "elapsed": 373,
     "status": "ok",
     "timestamp": 1651325164033,
     "user": {
      "displayName": "Ayush Kumar",
      "userId": "14345249188510044799"
     },
     "user_tz": -330
    },
    "id": "dW2MhCWZpQzm",
    "outputId": "0c0b29b7-f703-4403-f7c7-0a82cc3f592b"
   },
   "outputs": [
    {
     "name": "stdout",
     "output_type": "stream",
     "text": [
      "163\n",
      "41\n"
     ]
    }
   ],
   "source": [
    "n = len(lung_names)\n",
    "s = int(n*.8)\n",
    "train_lung_names = lung_names[:s]\n",
    "test_lung_names = lung_names[s:]\n",
    "print(len(train_lung_names))\n",
    "print(len(test_lung_names))"
   ]
  },
  {
   "cell_type": "markdown",
   "metadata": {
    "id": "5Lgh0aR7MvrD"
   },
   "source": [
    "Creating single npy file for train images (lungs and nodule masks)"
   ]
  },
  {
   "cell_type": "code",
   "execution_count": 9,
   "metadata": {
    "colab": {
     "base_uri": "https://localhost:8080/"
    },
    "executionInfo": {
     "elapsed": 5971,
     "status": "ok",
     "timestamp": 1651325179364,
     "user": {
      "displayName": "Ayush Kumar",
      "userId": "14345249188510044799"
     },
     "user_tz": -330
    },
    "id": "Qvbah7lTp6dF",
    "outputId": "c0c9963d-5c53-49a3-8cc5-a718aa5903d5"
   },
   "outputs": [
    {
     "name": "stderr",
     "output_type": "stream",
     "text": [
      "100%|██████████| 163/163 [00:02<00:00, 58.81it/s]\n"
     ]
    }
   ],
   "source": [
    "trainX = []\n",
    "trainY = []\n",
    "\n",
    "for lname in tqdm(train_lung_names):\n",
    "  mname = lname.replace(\"lungs\",\"masks\")\n",
    "  lung = np.load(\"F:\\Downloads\\Lung_Cancer_Detection-main\\Lung_Cancer_Detection-main\\DATA\\ProcessedData/lungs_roi/\"+lname)\n",
    "  mask = np.load(\"F:\\Downloads\\Lung_Cancer_Detection-main\\Lung_Cancer_Detection-main\\DATA\\ProcessedData/nodule_mask/\"+mname)\n",
    "  trainX.append(lung)\n",
    "  trainY.append(mask)\n",
    "\n",
    "trainX = np.array(trainX, dtype=np.uint8)\n",
    "trainY = np.array(trainY, dtype=np.uint8)\n",
    "\n",
    "np.save(\"trainX.npy\", trainX)\n",
    "np.save(\"trainY.npy\", trainY)"
   ]
  },
  {
   "cell_type": "markdown",
   "metadata": {
    "id": "oGehKOooMvrF"
   },
   "source": [
    "Creating single npy file for test images (lungs and nodule masks)"
   ]
  },
  {
   "cell_type": "code",
   "execution_count": 11,
   "metadata": {
    "colab": {
     "base_uri": "https://localhost:8080/"
    },
    "executionInfo": {
     "elapsed": 1240,
     "status": "ok",
     "timestamp": 1651325187396,
     "user": {
      "displayName": "Ayush Kumar",
      "userId": "14345249188510044799"
     },
     "user_tz": -330
    },
    "id": "8k8t2yOfrmZc",
    "outputId": "0e21bf75-7750-4c74-f58d-7e135428c0fd"
   },
   "outputs": [
    {
     "name": "stderr",
     "output_type": "stream",
     "text": [
      "100%|██████████| 41/41 [00:00<00:00, 59.42it/s]\n"
     ]
    }
   ],
   "source": [
    "testX = []\n",
    "testY = []\n",
    "\n",
    "for lname in tqdm(test_lung_names):\n",
    "  mname = lname.replace(\"lungs\",\"masks\")\n",
    "  lung = np.load(\"F:\\Downloads\\Lung_Cancer_Detection-main\\Lung_Cancer_Detection-main\\DATA\\ProcessedData/lungs_roi/\"+lname)\n",
    "  mask = np.load(\"F:\\Downloads\\Lung_Cancer_Detection-main\\Lung_Cancer_Detection-main\\DATA\\ProcessedData/nodule_mask/\"+mname)\n",
    "  testX.append(lung)\n",
    "  testY.append(mask)\n",
    "\n",
    "testX = np.array(testX, dtype=np.uint8)\n",
    "testY = np.array(testY, dtype=np.uint8)\n",
    "\n",
    "np.save(\"testX.npy\", testX)\n",
    "np.save(\"testY.npy\", testY)"
   ]
  },
  {
   "cell_type": "markdown",
   "metadata": {
    "id": "IcJe_t4GMvrG"
   },
   "source": [
    "Copying created npy files to google drive for future use"
   ]
  },
  {
   "cell_type": "code",
   "execution_count": 8,
   "metadata": {
    "executionInfo": {
     "elapsed": 4958,
     "status": "ok",
     "timestamp": 1651325223438,
     "user": {
      "displayName": "Ayush Kumar",
      "userId": "14345249188510044799"
     },
     "user_tz": -330
    },
    "id": "kVfuunYbtGji"
   },
   "outputs": [],
   "source": [
    "!cp trainX.npy drive/MyDrive/Datasets/lc2/v2/trainX.npy\n",
    "!cp trainY.npy drive/MyDrive/Datasets/lc2/v2/trainY.npy\n",
    "\n",
    "!cp testX.npy drive/MyDrive/Datasets/lc2/v2/testX.npy\n",
    "!cp testY.npy drive/MyDrive/Datasets/lc2/v2/testY.npy"
   ]
  },
  {
   "cell_type": "code",
   "execution_count": null,
   "metadata": {
    "id": "9g4VtIKmtakZ"
   },
   "outputs": [],
   "source": []
  }
 ],
 "metadata": {
  "colab": {
   "collapsed_sections": [],
   "name": "02_Dataset_Preparation.ipynb",
   "provenance": []
  },
  "kernelspec": {
   "display_name": "Python 3",
   "name": "python3"
  },
  "language_info": {
   "codemirror_mode": {
    "name": "ipython",
    "version": 3
   },
   "file_extension": ".py",
   "mimetype": "text/x-python",
   "name": "python",
   "nbconvert_exporter": "python",
   "pygments_lexer": "ipython3",
   "version": "3.10.0"
  }
 },
 "nbformat": 4,
 "nbformat_minor": 0
}
